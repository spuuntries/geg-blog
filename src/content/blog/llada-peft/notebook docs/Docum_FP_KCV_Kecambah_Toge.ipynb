{
  "nbformat": 4,
  "nbformat_minor": 0,
  "metadata": {
    "colab": {
      "provenance": []
    },
    "kernelspec": {
      "name": "python3",
      "display_name": "Python 3"
    },
    "language_info": {
      "name": "python"
    }
  },
  "cells": [
    {
      "cell_type": "markdown",
      "source": [
        "[data-data drive](https://drive.google.com/drive/folders/1w3pjWZj-iW-S0yObNhBPE3shaUYJMM-e?usp=sharing)"
      ],
      "metadata": {
        "id": "3z8R-AhLTzIy"
      }
    },
    {
      "cell_type": "markdown",
      "source": [
        "# Transfer learning LLaDA ke Bahasa Indonesia menggunakan  metode PEFT (LoRa , LoRa +)\n",
        "\n",
        "LLaDA paper :https://arxiv.org/abs/2502.09992"
      ],
      "metadata": {
        "id": "9RgXVP9HiO4a"
      }
    },
    {
      "cell_type": "markdown",
      "source": [
        "Pada Transfer Learning model LLaDA dataset yang kami gunakan yaitu dataset bahasa indonesia yang berasal dari Dataset [Cendol V2](https://huggingface.co/datasets/indonlp/cendol_collection_v2) yaitu kumpulun data Open source bnhsa indo dan jg beberapa bahasa daerah untuk melatih model LLM yang dibuat oleh IndoNLP yg digunakan untuk melatih model merka yaitu Cendol ,Data berjumlah sekitar 12 jt row dataset\n",
        "\n",
        "Pada projek ini kami hanya mengambil Subset data yg bahasa indo saja kemudian kami sampling lagi untuk mengambil subset tsb"
      ],
      "metadata": {
        "id": "K0bEOUgAieu8"
      }
    },
    {
      "cell_type": "markdown",
      "source": [
        "[Notebok pengambilan subset data](https://colab.research.google.com/drive/15KdM16k78wbw5-uiNCARhJ7BbH_KxYs4?usp=sharing)\n",
        "\n",
        "\n",
        "[stratify sampling  10 % dari subset indo](https://huggingface.co/datasets/farwew/SAMPLEINDO)\n",
        "\n",
        "\n",
        "[stratify sampling 3 % dari subset indo](https:https://huggingface.co/datasets/farwew/Sampling-3persen)\n",
        "\n",
        "hasil data:\n",
        "\n",
        "- [100 cluster = 98 K ~](https://files.catbox.moe/pn9gbx.000)\n",
        "- [10 cluster = 10 k](https://files.catbox.moe/95uwya.000)"
      ],
      "metadata": {
        "id": "XGqcLiyKkkHI"
      }
    },
    {
      "cell_type": "markdown",
      "source": [
        "Setelah di  kemudian setelah disubset, untuk meminimalisir datasset dilakukan clustering dengan kmeans. sebelum di cluster , data diubah kebentuk Embeding, pada kasus ini menggunakan indobert-base-p1\n",
        "\n",
        "cara pertama\n",
        "1. clustering 10 K dengan mengambil tiap cluster 1.000 data\n",
        "2. Clustering 100 k denbngan mengambil tiap cluster 1.000\n",
        "\n",
        "\n",
        "[Notebook Emebeding + Clustering](https://colab.research.google.com/drive/15A_et2y5YBdBVeJB1tvIrhoKRtlg2hhL?usp=sharing)\n",
        "\n",
        "\n",
        "[sampling buat test](https://colab.research.google.com/drive/13lyElsLp8CRMjjDgPMoN8YaoSOa_ERQq#scrollTo=yK5ZIGbWuC5c)"
      ],
      "metadata": {
        "id": "se2HjWTzmTQn"
      }
    },
    {
      "cell_type": "markdown",
      "source": [
        "[pipeline data prepo in one notebook](https://colab.research.google.com/drive/1w6qNRJaVAeIwy5FMiAAhX3Dw0wZVjy2L?usp=sharing)"
      ],
      "metadata": {
        "id": "Ic4Dn1atx9F7"
      }
    },
    {
      "cell_type": "markdown",
      "source": [
        "# Training model"
      ],
      "metadata": {
        "id": "Ces07V60owqz"
      }
    },
    {
      "cell_type": "markdown",
      "source": [
        "<!-- 1. [running 1](https://colab.research.google.com/drive/1VzqK69hUVb2tRmtpEZK6dWqKiB9DZCtH?usp=sharing)  \n",
        "  - [model](https://files.catbox.moe/mhfhrr.zip)\n",
        "\n",
        "2. [running 2](https://colab.research.google.com/drive/1yVKfMEVoWpDJcPbk8r9Yn1Nc7b-xzmhq#scrollTo=d0R0t_KZiUvQ)\n",
        "    - [model](https://files.catbox.moe/74dbvu.zip)  \n",
        "\n",
        "3. [running 3](https://colab.research.google.com/drive/1Ys3BLBFMQSVysd-M-yTOvqMpQjPxSfaH#scrollTo=OMc6siCqW_F5)\n",
        "  - [model](https://files.catbox.moe/yew997.zip)  \n",
        "\n",
        "4. [running 4](https://colab.research.google.com/drive/1oq1Y5SobkJzDoERnKQjhXTQ6UnIPg5qk#scrollTo=1ObFb9r3ED1H)\n",
        "  - [model](https://files.catbox.moe/v3kv12.zip)\n",
        "\n",
        "5. [running 5](https://colab.research.google.com/drive/1A6mxkzvVFNZNwj2zhZAYpOPMTxUKlpkB#scrollTo=9t14Abn0GEn5)  \n",
        "  - [model](https://files.catbox.moe/x4xze3.zip)\n",
        "\n",
        "6. [Running 6](https://colab.research.google.com/drive/1X_iuDkgk-uXAz8klxpZjX6L9Qx0EsyOb?usp=sharing)\n",
        "  - [model](https://files.catbox.moe/pafqos.zip)\n",
        "\n",
        "7. [running 7](https://colab.research.google.com/drive/1Pordf8jUcWYMW65QbAmvllePcOFkb1eO#scrollTo=Tb7nbj4SKF8_)\n",
        "  - [model](https://files.catbox.moe/jp9kgf.zip)\n",
        "8. [running 8](https://colab.research.google.com/drive/1R_KRLmTLq1FhtetKAph8GrdSQdrv4ins#scrollTo=1ObFb9r3ED1H)\n",
        "  - [model](https://files.catbox.moe/35ez0i.zip)\n",
        "9.[running 9](https://colab.research.google.com/drive/1acpWOE9vsH-o1CROobrgNg4q3dOSQlOx#scrollTo=eyraTPHpFvgQ)\n",
        "  - [model]() -->"
      ],
      "metadata": {
        "id": "ctVsIE1Noz9h"
      }
    },
    {
      "cell_type": "markdown",
      "source": [
        "| No | Nama Running | Colab Notebook | Model | BATCH_SIZE | EPOCHS | LEARNING_RATE | CUTOFF_LEN | LORA_R | LORA_ALPHA | LORA_DROPOUT | VAL_SET_SIZE |\n",
        "|----|---------------|----------------|--------|-------------|--------|----------------|-------------|--------|-------------|----------------|----------------|\n",
        "| 1  | running 1 (LoRa)    | [Link](https://colab.research.google.com/drive/1VzqK69hUVb2tRmtpEZK6dWqKiB9DZCtH?usp=sharing) | [model](https://files.catbox.moe/mhfhrr.zip) | 2 | 3 | 2e-4 | 512 | 16 | 16 | 0.1 | 0.1 |\n",
        "| 2  |running 2 (LoRa)|[link](https://colab.research.google.com/drive/1yVKfMEVoWpDJcPbk8r9Yn1Nc7b-xzmhq#scrollTo=d0R0t_KZiUvQ)                |[model](https://files.catbox.moe/74dbvu.zip)          | 2            |   3     |        2e-4        |  512           |32        | 16            |0.1            |0.1                |\n",
        "| 3  | running 3 (LoRa) |[link](https://colab.research.google.com/drive/1Ys3BLBFMQSVysd-M-yTOvqMpQjPxSfaH#scrollTo=OMc6siCqW_F5)                |[model](https://files.catbox.moe/yew997.zip)          | 2            |3        | 2e-4               | 640            | 4       |  16          |  0.1              |  0.1              |\n",
        "| 4  |running 4 (LoRa)               |[link](https://colab.research.google.com/drive/1oq1Y5SobkJzDoERnKQjhXTQ6UnIPg5qk#scrollTo=1ObFb9r3ED1H)                |[model](https://files.catbox.moe/v3kv12.zip)        |2             |3        | 5e-3               | 512            |8        |8             |0.1              |0.1                |\n",
        "| 5  |running 5 (LoRa)               |[link](https://colab.research.google.com/drive/1A6mxkzvVFNZNwj2zhZAYpOPMTxUKlpkB#scrollTo=9t14Abn0GEn5)                |[model](https://files.catbox.moe/x4xze3.zip)        |2             |3        |2e-4               |512            |8        |8            | 0.1              |0.1                |\n",
        "| 6 | Running 6 (LoRa) |[link](https://colab.research.google.com/drive/1X_iuDkgk-uXAz8klxpZjX6L9Qx0EsyOb?usp=sharing)               |[model](https://files.catbox.moe/pafqos.zip)                |2|3|5e-4|512|16|16|0.1|0.1|                \n",
        "| 7  | running 7 (LoRa)| [Link](https://colab.research.google.com/drive/1Pordf8jUcWYMW65QbAmvllePcOFkb1eO#scrollTo=Tb7nbj4SKF8_) | [model](https://files.catbox.moe/jp9kgf.zip) | 2 | 3 | 2e-4 | 512 | 16 | 16 | 0.1 | 0.1 |\n",
        "\n",
        "\n",
        "\n"
      ],
      "metadata": {
        "id": "azbAcFs32Rox"
      }
    },
    {
      "cell_type": "markdown",
      "source": [
        "| No | Nama Running | Colab Notebook | Model | BATCH_SIZE | EPOCHS | `LEARNING_RATE`  | CUTOFF_LEN | LORA_R | LORA_ALPHA | LORA_DROPOUT | VAL_SET_SIZE | Optimizer LoRa+ | `lr` (Optimizer LoRA+) | `loraplus_lr_ratio` |\n",
        "|----|--------------|----------------|--------|-------------|--------|-------------------------|-------------|--------|-------------|----------------|----------------|-----------|-------------------|----------------------|\n",
        "| 8  | running 8 (LoRA+ dan PiSSA (4 iter)) | [Link](https://colab.research.google.com/drive/1R_KRLmTLq1FhtetKAph8GrdSQdrv4ins#scrollTo=1ObFb9r3ED1H) | [model](https://files.catbox.moe/35ez0i.zip) | 2 | 3 | 2e-4 | 512 | 16 | 16 | 0.1 | 0.1 | `bnb.optim.Adam8bit` | 5e-5 | 16 |\n",
        "| 9  | running 9 (LoRA+ dan PiSSA (8 iter)) | [Link](https://colab.research.google.com/drive/1acpWOE9vsH-o1CROobrgNg4q3dOSQlOx#scrollTo=eyraTPHpFvgQ) | [model](https://files.catbox.moe/93it3o.zip) | 2 | 3 | 2e-4 | 512 | 16 | 16 | 0.1 | 0.1 | `bnb.optim.Adam8bit` | 5e-5 | 16 |"
      ],
      "metadata": {
        "id": "WXhGzfubjoI3"
      }
    },
    {
      "cell_type": "code",
      "source": [],
      "metadata": {
        "id": "6__cQLjaAf_D"
      },
      "execution_count": null,
      "outputs": []
    },
    {
      "cell_type": "markdown",
      "source": [
        "# Hasil Eval\n",
        "\n",
        "\n",
        "\n",
        "btwe lupa kirim, nitip:\n",
        "1. https://colab.research.google.com/drive/1z1VSp-A5M1GxoAgiimPCdPLe_DcCgTYI#scrollTo=HXEqnASbL-CX\n",
        "2. https://colab.research.google.com/drive/1mUrhM67-bJQwPNebnPLd9JmJWSXuIg54#scrollTo=HXEqnASbL-CX\n",
        "3. https://colab.research.google.com/drive/1KLbiAmKaY96hn1rlIUX9TZIr5fUlYvnb#scrollTo=6VsAGSQnJrfb\n",
        "4. https://colab.research.google.com/drive/1pDWwd7FAydbO9tpszf0DZMq6VLt7cAEu#scrollTo=6VsAGSQnJrfb\n",
        "4 (lagi). https://colab.research.google.com/drive/15TbOrnHoQY5Cy36uHjju5RvBQgdh1A0w#scrollTo=HXEqnASbL-CX\n",
        "5. https://colab.research.google.com/drive/1RzmO-4j5AroKuRMTE1ldH65xJsVJhucx#scrollTo=Cr06pPRBHZcx\n",
        "\n",
        "\n",
        "---\n",
        "\n",
        "- [model - 1](https://colab.research.google.com/drive/19M5pSaWNRh0PS6z4EnMyAXIjLYIzttFr?usp=sharing)\n",
        "\n",
        "- [model - 2](https://colab.research.google.com/drive/1DqdszaezwtcaMvDlwCfkVyDjGs1-JX_x?usp=sharing)\n",
        "\n",
        "- [model - 3](https://colab.research.google.com/drive/1h4gVXZy1ITFxsN2Dok46730ZYQZvFFD9?usp=sharing)\n",
        "\n",
        "- [model - 4](https://colab.research.google.com/drive/1Y7Y4tzAPjH10rj8SXM9ihr21ZSye-l6k?usp=sharing)\n",
        "\n",
        "- [model - 4 (run lagi)](https://colab.research.google.com/drive/1ZCXRhqVJfsi98-pFBO9LMt1bb3PWBXq8?usp=sharing)\n",
        "\n",
        "- [model - 5](https://colab.research.google.com/drive/1gFcB2tr8DTYlQfmkD17Y4ReYASpZJVbT?usp=sharing)\n",
        "\n",
        "- [model - 6](https://colab.research.google.com/drive/1IIFK1igHUrcAQiSX7tS_79tUhTztBe3z?usp=sharing)\n",
        "\n",
        "- [model - 7](https://colab.research.google.com/drive/1zUOcNIl7-ogDrs7sZ0C8lG3LLx6pNast?usp=sharing)\n",
        "\n",
        "- [model - 8](https://colab.research.google.com/drive/13TZs3w2BYaUjAXBbr7-uFZ8HrYM7z1-T?usp=sharing)\n",
        "\n",
        "- [model - 9](https://colab.research.google.com/drive/1rm5_wzdeuQ71rXEYX3nZA799gRm5f-fR?usp=sharing)\n",
        "\n",
        "---\n",
        "Hasil run\n",
        "\n",
        "```python\n",
        "{'model 1' : 'https://files.catbox.moe/sice0n.csv',\n",
        " 'model 2' : 'https://files.catbox.moe/n2sz0g.csv',\n",
        " 'model 3' : 'https://files.catbox.moe/nqj87h.csv',\n",
        " 'model 4' : 'https://files.catbox.moe/olz1gk.csv',\n",
        " 'model 4(v2)' : 'https://files.catbox.moe/5pi1cy.csv',\n",
        " 'model 5' : 'https://files.catbox.moe/tgqn72.csv',\n",
        " 'model 6' : 'https://files.catbox.moe/8c4xlf.csv',\n",
        " 'model 7' : \"https://files.catbox.moe/k8zcpg.csv\",\n",
        " 'model 8' : \"https://files.catbox.moe/6pluxl.csv\",\n",
        " 'model 9' : 'https://files.catbox.moe/l0gew2.csv'\n",
        " }\n",
        "```"
      ],
      "metadata": {
        "id": "1WkKx4eNler7"
      }
    },
    {
      "cell_type": "code",
      "source": [],
      "metadata": {
        "id": "d9VjnLY4x0NB"
      },
      "execution_count": null,
      "outputs": []
    }
  ]
}